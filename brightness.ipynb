{
 "cells": [
  {
   "cell_type": "code",
   "execution_count": 1,
   "metadata": {},
   "outputs": [],
   "source": [
    "\n",
    "# Importing Libraries \n",
    "import cv2 \n",
    "import mediapipe as mp \n",
    "from math import hypot \n",
    "import screen_brightness_control as sbc \n",
    "import numpy as np "
   ]
  },
  {
   "cell_type": "code",
   "execution_count": 2,
   "metadata": {},
   "outputs": [],
   "source": [
    "mpHands=mp.solutions.hands\n",
    "hands=mpHands.Hands(static_image_mode=False,model_complexity=1,min_detection_confidence=0.75,min_tracking_confidence=0.75,max_num_hands=2)\n",
    "Draw=mp.solutions.drawing_utils"
   ]
  },
  {
   "cell_type": "code",
   "execution_count": null,
   "metadata": {},
   "outputs": [],
   "source": [
    "cap=cv2.VideoCapture(0)\n",
    "\n",
    "while True:\n",
    "    #read video by frame\n",
    "    _,frame=cap.read()\n",
    "    #flip image\n",
    "    frame=cv2.flip(frame,1)\n",
    "    #convert bgr image to rgb image\n",
    "    framergb=cv2.cvtColor(frame,cv2.COLOR_BGR2RGB)\n",
    "    #process the rgb image\n",
    "    Process=hands.process(framergb)\n",
    "\n",
    "    landmarklist=[]\n",
    "\n",
    "    #if hands are present in image(frame)\n",
    "    if Process.multi_hand_landmarks:\n",
    "\n",
    "        #detect handmarks\n",
    "        for handlm in Process.multi_hand_landmarks:\n",
    "            for _id,landmarks in enumerate(handlm.landmark):\n",
    "                #store height,width of image\n",
    "                height,width,color_channel=frame.shape\n",
    "\n",
    "                #calculate and append x,y cordinates of\n",
    "                #hand marks from image(frame) to lmlist\n",
    "                x,y=int(landmarks.x*width),int(landmarks.y*height)\n",
    "                landmarklist.append([_id,x,y])\n",
    "            #draw landmarks\n",
    "            Draw.draw_landmarks(frame,handlm,mpHands.HAND_CONNECTIONS)\n",
    "    \n",
    "    #if landmark list is not empty\n",
    "    if landmarklist!=[]:\n",
    "        #store x,y coordinates of (tip of) thump\n",
    "        x_1,y_1=landmarklist[4][1],landmarklist[4][2]\n",
    "        #store x,y coordinates of (tip of) index finger\n",
    "        x_2,y_2=landmarklist[8][1],landmarklist[8][2]\n",
    "\n",
    "        #draw circle on thump and index finger tip\n",
    "        cv2.circle(frame,(x_1,y_1),7,(0,255,0),cv2.FILLED)\n",
    "        cv2.circle(frame,(x_2,y_2),7,(0,255,0),cv2.FILLED)\n",
    "\n",
    "        #draw line from tip of thump to tip of index finger\n",
    "        cv2.line(frame,(x_1,y_1),(x_2,y_2),(0,255,0),3)\n",
    "\n",
    "        #calculate squareroot of the sum of squares of the specified arguments\n",
    "        L=hypot(x_2-x_1,y_2-y_1)\n",
    "\n",
    "        #1-D Linear interpolant to a function with given discrete data points\n",
    "        #(hand range 15-120,brightness range 0-100) evaluated at length \n",
    "        b_level=np.interp(L,[15,220],[0,100])\n",
    "\n",
    "        #set brightness\n",
    "        sbc.set_brightness(int(b_level))\n",
    "    #display video and when 'q' is entered\n",
    "    #destroy the windows\n",
    "\n",
    "    cv2.imshow('image',frame)\n",
    "    if cv2.waitKey(1)&0xff==ord('q'):\n",
    "        break"
   ]
  }
 ],
 "metadata": {
  "kernelspec": {
   "display_name": "Python 3",
   "language": "python",
   "name": "python3"
  },
  "language_info": {
   "codemirror_mode": {
    "name": "ipython",
    "version": 3
   },
   "file_extension": ".py",
   "mimetype": "text/x-python",
   "name": "python",
   "nbconvert_exporter": "python",
   "pygments_lexer": "ipython3",
   "version": "3.8.10"
  }
 },
 "nbformat": 4,
 "nbformat_minor": 2
}
