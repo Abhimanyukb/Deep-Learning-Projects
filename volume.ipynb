{
 "cells": [
  {
   "cell_type": "code",
   "execution_count": 1,
   "metadata": {},
   "outputs": [],
   "source": [
    "import cv2 \n",
    "import mediapipe as mp\n",
    "from math import hypot\n",
    "from ctypes import cast,POINTER\n",
    "from comtypes import CLSCTX_ALL\n",
    "from pycaw.pycaw import AudioUtilities,IAudioEndpointVolume\n",
    "import numpy as np"
   ]
  },
  {
   "cell_type": "code",
   "execution_count": null,
   "metadata": {},
   "outputs": [
    {
     "ename": "",
     "evalue": "",
     "output_type": "error",
     "traceback": [
      "\u001b[1;31mFailed to start the Kernel. \n",
      "\u001b[1;31mUnable to start Kernel 'Python 3.8.10' due to a timeout waiting for the ports to get used. \n",
      "\u001b[1;31mView Jupyter <a href='command:jupyter.viewOutput'>log</a> for further details."
     ]
    }
   ],
   "source": [
    "cap=cv2.VideoCapture(0)\n",
    "\n",
    "mpHands=mp.solutions.hands\n",
    "hands=mpHands.Hands()\n",
    "mpDraw=mp.solutions.drawing_utils\n",
    "\n",
    "devices=AudioUtilities.GetSpeakers()\n",
    "interface=devices.Activate(IAudioEndpointVolume._iid_,CLSCTX_ALL,None)\n",
    "volume=cast(interface,POINTER(IAudioEndpointVolume))\n",
    "\n",
    "volmin,volmax=volume.GetVolumeRange()[:2]\n",
    "\n",
    "\n",
    "while True:\n",
    "    success,frame=cap.read()\n",
    "    frame=cv2.flip(frame,1)\n",
    "    framergb=cv2.cvtColor(frame,cv2.COLOR_BGR2RGB)\n",
    "    result=hands.process(framergb)\n",
    "\n",
    "\n",
    "    lmlist=[]\n",
    "    if result.multi_hand_landmarks:\n",
    "        for handlandmark in result.multi_hand_landmarks:\n",
    "            for id,lm in enumerate(handlandmark.landmark):\n",
    "                h,w,color=frame.shape\n",
    "                cx,cy=int(lm.x*w),int(lm.y*h)\n",
    "                lmlist.append([id,cx,cy])\n",
    "            mpDraw.draw_landmarks(frame,handlandmark,mpHands.HAND_CONNECTIONS)\n",
    "\n",
    "    if lmlist!=[]:\n",
    "        x1,y1=lmlist[4][1],lmlist[4][2]\n",
    "        x2,y2=lmlist[8][1],lmlist[8][2]\n",
    "\n",
    "        cv2.circle(frame,(x1,y1),7,(255,0,0),cv2.FILLED)\n",
    "        cv2.circle(frame,(x2,y2),7,(255,0,0),cv2.FILLED)\n",
    "        cv2.line(frame,(x1,y1),(x2,y2),(0,255,0),3)\n",
    "\n",
    "        length=hypot(x2-x1,y2-y1)\n",
    "\n",
    "        vol=np.interp(length,[15,220],[volmin,volmax])\n",
    "        #print(vol,length)\n",
    "        volume.SetMasterVolumeLevel(vol,None)\n",
    "\n",
    "    \n",
    "    cv2.imshow('image',frame)\n",
    "    if cv2.waitKey(1)& 0xff==ord('q'):\n",
    "        break\n"
   ]
  },
  {
   "cell_type": "code",
   "execution_count": null,
   "metadata": {},
   "outputs": [],
   "source": []
  }
 ],
 "metadata": {
  "kernelspec": {
   "display_name": "Python 3",
   "language": "python",
   "name": "python3"
  },
  "language_info": {
   "codemirror_mode": {
    "name": "ipython",
    "version": 3
   },
   "file_extension": ".py",
   "mimetype": "text/x-python",
   "name": "python",
   "nbconvert_exporter": "python",
   "pygments_lexer": "ipython3",
   "version": "3.8.10"
  }
 },
 "nbformat": 4,
 "nbformat_minor": 2
}
